{
 "cells": [
  {
   "attachments": {},
   "cell_type": "markdown",
   "metadata": {},
   "source": [
    "# Example for 'custom' LED spectrum and custom constellation\n"
   ]
  },
  {
   "cell_type": "code",
   "execution_count": 1,
   "metadata": {},
   "outputs": [],
   "source": [
    "# Import Transmitter\n",
    "from vlc_rolling.transmitter import Transmitter\n",
    "# Import Photodetector\n",
    "# from vlc_rm.photodetector import Photodetector\n",
    "# Import Indoor Environment\n",
    "from vlc_rolling.indoorenv import Indoorenv\n",
    "\n",
    "from vlc_rolling.imagesensor import Imagesensor\n",
    "# Import REcursiveModel\n",
    "# from vlc_rm.recursivemodel import Recursivemodel\n",
    "# Import Symbol Constants\n",
    "from vlc_rolling.constants import Constants as Kt\n",
    "\n",
    "from vlc_rolling.sightpy import *\n",
    "\n",
    "# Import numpy\n",
    "import numpy as np\n",
    "\n",
    "#Import luxpy   \n",
    "import luxpy as lx\n",
    "\n",
    "# Import Matplotlob\n",
    "import matplotlib.pyplot as plt\n",
    "plt.rcParams['figure.figsize'] = [6, 6]\n",
    "plt.rcParams['figure.facecolor']='white'"
   ]
  },
  {
   "attachments": {},
   "cell_type": "markdown",
   "metadata": {},
   "source": [
    "## Define transmitter, receiver and indoor space\n"
   ]
  },
  {
   "cell_type": "code",
   "execution_count": 2,
   "metadata": {},
   "outputs": [
    {
     "name": "stdout",
     "output_type": "stream",
     "text": [
      "\n",
      " List of parameters for indoor envirionment Matisse-CornellBox: \n",
      "Name: Matisse-CornellBox\n",
      "Size [x y z] -> [m]: [5.0000e+00 5.0000e+00 3.0000e+00] \n",
      "Order reflection: 10 \n",
      "Resolution points [m]: 0.10000000149011612\n",
      "Smaller Area [m^2]: Non defined, create grid.\n",
      "Number of points: Non defined, create grid.\n",
      "\n",
      "\n",
      " List of parameters for LED transmitter: \n",
      "Name: Led1\n",
      "Position [x y z]: [1.3400e+00 8.0000e-01 2.3000e+00] \n",
      "Normal Vector [x y z]: [[0.0000e+00 0.0000e+00 -1.0000e+00]] \n",
      "Lambert Number: 1.2999999523162842 \n",
      "Central Wavelengths [nm]: [6.2000e+02 5.3000e+02 4.7500e+02] \n",
      "FWHM [nm]: [2.0000e+01 3.0000e+01 2.0000e+01]\n",
      "Luminous Flux [lm]: 5000.0\n",
      "Correlated Color Temperature: [[-4.3902e+06]]\n",
      "CIExy coordinates: [[2.3633e-01 1.9580e-01 5.6787e-01]]\n",
      "ILER [W/lm]: \n",
      " [[3.8001e-03 0.0000e+00 0.0000e+00]\n",
      " [0.0000e+00 1.8197e-03 0.0000e+00]\n",
      " [0.0000e+00 0.0000e+00 1.1960e-02]] \n",
      "Average Power per Channel Color: \n",
      " [1.2667e-03 6.0655e-04 3.9868e-03] \n",
      "Total Power emmited by the Transmitter [W]: \n",
      " 29.30032767693627 \n",
      "\n",
      "<vlc_rolling.imagesensor.Imagesensor object at 0x730181d1b670>\n",
      "Rendering...\n"
     ]
    },
    {
     "ename": "ValueError",
     "evalue": "not enough values to unpack (expected 2, got 0)",
     "output_type": "error",
     "traceback": [
      "\u001b[0;31m---------------------------------------------------------------------------\u001b[0m",
      "\u001b[0;31mValueError\u001b[0m                                Traceback (most recent call last)",
      "Cell \u001b[0;32mIn[2], line 52\u001b[0m\n\u001b[1;32m     39\u001b[0m cam \u001b[38;5;241m=\u001b[39m Imagesensor(\n\u001b[1;32m     40\u001b[0m     name\u001b[38;5;241m=\u001b[39m\u001b[38;5;124m\"\u001b[39m\u001b[38;5;124mCamera\u001b[39m\u001b[38;5;124m\"\u001b[39m,\n\u001b[1;32m     41\u001b[0m     focal_length \u001b[38;5;241m=\u001b[39m \u001b[38;5;241m0.1\u001b[39m,\n\u001b[0;32m   (...)\u001b[0m\n\u001b[1;32m     48\u001b[0m     sensor\u001b[38;5;241m=\u001b[39m\u001b[38;5;124m'\u001b[39m\u001b[38;5;124mSonyStarvisBSI\u001b[39m\u001b[38;5;124m'\u001b[39m\n\u001b[1;32m     49\u001b[0m     )\n\u001b[1;32m     50\u001b[0m \u001b[38;5;28mprint\u001b[39m(cam)\n\u001b[0;32m---> 52\u001b[0m \u001b[43mroom\u001b[49m\u001b[38;5;241;43m.\u001b[39;49m\u001b[43mrender_environment\u001b[49m\u001b[43m(\u001b[49m\u001b[43m)\u001b[49m\n",
      "File \u001b[0;32m~/repositories/python-vlc-rolling/src/vlc_rolling/indoorenv.py:197\u001b[0m, in \u001b[0;36mIndoorenv.render_environment\u001b[0;34m(self)\u001b[0m\n\u001b[1;32m    195\u001b[0m \u001b[38;5;28;01mdef\u001b[39;00m\u001b[38;5;250m \u001b[39m\u001b[38;5;21mrender_environment\u001b[39m(\u001b[38;5;28mself\u001b[39m) \u001b[38;5;241m-\u001b[39m\u001b[38;5;241m>\u001b[39m \u001b[38;5;28;01mNone\u001b[39;00m:\n\u001b[0;32m--> 197\u001b[0m     img \u001b[38;5;241m=\u001b[39m \u001b[38;5;28;43mself\u001b[39;49m\u001b[38;5;241;43m.\u001b[39;49m\u001b[43m_scene_rt\u001b[49m\u001b[38;5;241;43m.\u001b[39;49m\u001b[43mrender\u001b[49m\u001b[43m(\u001b[49m\n\u001b[1;32m    198\u001b[0m \u001b[43m        \u001b[49m\u001b[43msamples_per_pixel\u001b[49m\u001b[43m \u001b[49m\u001b[38;5;241;43m=\u001b[39;49m\u001b[43m \u001b[49m\u001b[38;5;241;43m100\u001b[39;49m\u001b[43m,\u001b[49m\n\u001b[1;32m    199\u001b[0m \u001b[43m        \u001b[49m\u001b[38;5;66;43;03m# progress_bar = True\u001b[39;49;00m\n\u001b[1;32m    200\u001b[0m \u001b[43m        \u001b[49m\u001b[43m)\u001b[49m\n\u001b[1;32m    202\u001b[0m     \u001b[38;5;66;03m# img.save(\"cornell_box.png\")\u001b[39;00m\n\u001b[1;32m    204\u001b[0m     img\u001b[38;5;241m.\u001b[39mshow()\n",
      "File \u001b[0;32m~/repositories/python-vlc-rolling/src/vlc_rolling/sightpy/scene.py:83\u001b[0m, in \u001b[0;36mScene.render\u001b[0;34m(self, samples_per_pixel, progress_bar)\u001b[0m\n\u001b[1;32m     79\u001b[0m \u001b[38;5;28;01melse\u001b[39;00m:\n\u001b[1;32m     82\u001b[0m     \u001b[38;5;28;01mfor\u001b[39;00m i \u001b[38;5;129;01min\u001b[39;00m \u001b[38;5;28mrange\u001b[39m(samples_per_pixel):\n\u001b[0;32m---> 83\u001b[0m         color_RGBlinear \u001b[38;5;241m+\u001b[39m\u001b[38;5;241m=\u001b[39m \u001b[43mget_raycolor\u001b[49m\u001b[43m(\u001b[49m\u001b[38;5;28;43mself\u001b[39;49m\u001b[38;5;241;43m.\u001b[39;49m\u001b[43mcamera\u001b[49m\u001b[38;5;241;43m.\u001b[39;49m\u001b[43mget_ray\u001b[49m\u001b[43m(\u001b[49m\u001b[38;5;28;43mself\u001b[39;49m\u001b[38;5;241;43m.\u001b[39;49m\u001b[43mn\u001b[49m\u001b[43m)\u001b[49m\u001b[43m,\u001b[49m\u001b[43m \u001b[49m\u001b[43mscene\u001b[49m\u001b[43m \u001b[49m\u001b[38;5;241;43m=\u001b[39;49m\u001b[43m \u001b[49m\u001b[38;5;28;43mself\u001b[39;49m\u001b[43m)\u001b[49m\n\u001b[1;32m     87\u001b[0m \u001b[38;5;66;03m#average samples per pixel (antialiasing)\u001b[39;00m\n\u001b[1;32m     88\u001b[0m color_RGBlinear \u001b[38;5;241m=\u001b[39m color_RGBlinear\u001b[38;5;241m/\u001b[39msamples_per_pixel\n",
      "File \u001b[0;32m~/repositories/python-vlc-rolling/src/vlc_rolling/sightpy/ray.py:62\u001b[0m, in \u001b[0;36mget_raycolor\u001b[0;34m(ray, scene)\u001b[0m\n\u001b[1;32m     59\u001b[0m \u001b[38;5;28;01mdef\u001b[39;00m\u001b[38;5;250m \u001b[39m\u001b[38;5;21mget_raycolor\u001b[39m(ray, scene):\n\u001b[1;32m     61\u001b[0m     inters \u001b[38;5;241m=\u001b[39m [s\u001b[38;5;241m.\u001b[39mintersect(ray\u001b[38;5;241m.\u001b[39morigin, ray\u001b[38;5;241m.\u001b[39mdir) \u001b[38;5;28;01mfor\u001b[39;00m s \u001b[38;5;129;01min\u001b[39;00m scene\u001b[38;5;241m.\u001b[39mcollider_list]\n\u001b[0;32m---> 62\u001b[0m     distances, hit_orientation \u001b[38;5;241m=\u001b[39m \u001b[38;5;28mzip\u001b[39m(\u001b[38;5;241m*\u001b[39minters)\n\u001b[1;32m     65\u001b[0m     \u001b[38;5;66;03m# get the shortest distance collision\u001b[39;00m\n\u001b[1;32m     66\u001b[0m     nearest \u001b[38;5;241m=\u001b[39m reduce(np\u001b[38;5;241m.\u001b[39mminimum, distances)\n",
      "\u001b[0;31mValueError\u001b[0m: not enough values to unpack (expected 2, got 0)"
     ]
    }
   ],
   "source": [
    "\n",
    "green_wall = rgb(0.0, 1.0, 0.0)\n",
    "red_wall = rgb(0.0, 1.0, 0.0)\n",
    "white_wall = rgb(0.8, 0.8, 0.8)\n",
    "floor_wall = rgb(0.1, 0.1, 0.1)\n",
    "\n",
    "# Create indoor environment and 3d scene\n",
    "\n",
    "room = Indoorenv(\n",
    "    name=\"Matisse-CornellBox\",\n",
    "    size=[5, 5, 3],\n",
    "    no_reflections=10,\n",
    "    resolution=1/10,\n",
    "    ceiling=('diffuse', white_wall),\n",
    "    west=('diffuse', white_wall),\n",
    "    north=('diffuse', green_wall),\n",
    "    east=('diffuse', white_wall),\n",
    "    south=('diffuse', red_wall),\n",
    "    floor=('diffuse', floor_wall)\n",
    "        )\n",
    "room.create_environment()\n",
    "print(room)\n",
    "\n",
    "# Create a transmitter-type object\n",
    "transmitter = Transmitter(\n",
    "    room=room,\n",
    "    name=\"Led1\",\n",
    "    led_type='gaussian',\n",
    "    reference='RGB-Phosphor',\n",
    "    position=[1.34, 0.8, 2.30],\n",
    "    normal=[0, 0, -1],\n",
    "    mlambert=1.3,\n",
    "    wavelengths=[620, 530, 475],\n",
    "    fwhm=[20, 30, 20],\n",
    "    constellation='ieee16',\n",
    "    luminous_flux=5000\n",
    "            )\n",
    "print(transmitter)\n",
    "\n",
    "cam = Imagesensor(\n",
    "    name=\"Camera\",\n",
    "    focal_length = 0.1,\n",
    "    pixel_size = 1,\n",
    "    image_height = 200,\n",
    "    image_width = 200,\n",
    "    camera_center = vec3(278, 278, 800),\n",
    "    camera_look_at =  vec3(278, 278, 0),\n",
    "    room = room,\n",
    "    sensor='SonyStarvisBSI'\n",
    "    )\n",
    "print(cam)\n",
    "\n",
    "room.render_environment()"
   ]
  },
  {
   "cell_type": "code",
   "execution_count": null,
   "metadata": {},
   "outputs": [],
   "source": []
  }
 ],
 "metadata": {
  "kernelspec": {
   "display_name": "venv-rolling",
   "language": "python",
   "name": "python3"
  },
  "language_info": {
   "codemirror_mode": {
    "name": "ipython",
    "version": 3
   },
   "file_extension": ".py",
   "mimetype": "text/x-python",
   "name": "python",
   "nbconvert_exporter": "python",
   "pygments_lexer": "ipython3",
   "version": "3.10.12"
  },
  "orig_nbformat": 4
 },
 "nbformat": 4,
 "nbformat_minor": 2
}
